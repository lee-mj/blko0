{
  "nbformat": 4,
  "nbformat_minor": 0,
  "metadata": {
    "colab": {
      "name": "1주차 과제",
      "provenance": [],
      "collapsed_sections": [],
      "toc_visible": true,
      "authorship_tag": "ABX9TyPAd4mLKTYL12kc7n2X7UZu",
      "include_colab_link": true
    },
    "kernelspec": {
      "name": "python3",
      "display_name": "Python 3"
    }
  },
  "cells": [
    {
      "cell_type": "markdown",
      "metadata": {
        "id": "view-in-github",
        "colab_type": "text"
      },
      "source": [
        "<a href=\"https://colab.research.google.com/github/lee-mj/blko0/blob/master/1%EC%A3%BC%EC%B0%A8_%EA%B3%BC%EC%A0%9C.ipynb\" target=\"_parent\"><img src=\"https://colab.research.google.com/assets/colab-badge.svg\" alt=\"Open In Colab\"/></a>"
      ]
    },
    {
      "cell_type": "markdown",
      "metadata": {
        "id": "y_mU2-HIS4ox",
        "colab_type": "text"
      },
      "source": [
        "##1.언어에 관한 인공지능\n",
        "\n",
        "구글의 번역기는 신경망 번역이라는 기술이 적용 되었다.\n",
        "\n",
        "신경망 번역이란 머신러닝을 활용한 번역이다.\n",
        "\n",
        "어구 기반의 번역의 한계인 딱딱하고 어색한 문장을 극복하여 보다 간결하고 작성자의 의도를 알 수 있는 문장을 제공함.\n",
        "\n",
        "##2.음성에 관한 인공지능\n",
        "\n",
        "애플의 시리 또한 머신러닝을 통해 음성 정보들을 취합하여 기존의 음성 인공지능에 대한 오류들을 잡아내고 보다 사람과 비슷하고 정확한 음성 안내를 제공함\n",
        "\n",
        "##3.이미지에 관한 인공지능\n",
        "\n",
        "구글 포토 서비스는 이미지 인식 기술을 통해 쉽게 분류하여 찾을 수 있게 편의를 제공한다.\n",
        "\n",
        "##4.자동차에 관한 인공지능\n",
        "\n",
        "테슬라는 자동차에 인공지능을 접합시켜 자율 주행 자동차를 만들어 인간에게 편의를 제공한다.\n",
        "\n",
        "\n",
        "\n",
        "\n",
        "\n",
        "\n"
      ]
    }
  ]
}